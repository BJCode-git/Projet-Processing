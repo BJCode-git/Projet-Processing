{
 "cells": [
  {
   "cell_type": "markdown",
   "metadata": {},
   "source": [
    "Installation des dépendances :"
   ]
  },
  {
   "cell_type": "code",
   "execution_count": 78,
   "metadata": {},
   "outputs": [
    {
     "name": "stdout",
     "output_type": "stream",
     "text": [
      "Defaulting to user installation because normal site-packages is not writeable\n",
      "Requirement already satisfied: numpy<2.0 in /home/julien/.local/lib/python3.10/site-packages (1.26.4)\n",
      "Defaulting to user installation because normal site-packages is not writeable\n",
      "Requirement already satisfied: matplotlib in /home/julien/.local/lib/python3.10/site-packages (3.10.0)\n",
      "Requirement already satisfied: contourpy>=1.0.1 in /home/julien/.local/lib/python3.10/site-packages (from matplotlib) (1.3.1)\n",
      "Requirement already satisfied: cycler>=0.10 in /usr/lib/python3/dist-packages (from matplotlib) (0.11.0)\n",
      "Requirement already satisfied: fonttools>=4.22.0 in /usr/lib/python3/dist-packages (from matplotlib) (4.29.1)\n",
      "Requirement already satisfied: kiwisolver>=1.3.1 in /usr/lib/python3/dist-packages (from matplotlib) (1.3.2)\n",
      "Requirement already satisfied: numpy>=1.23 in /home/julien/.local/lib/python3.10/site-packages (from matplotlib) (1.26.4)\n",
      "Requirement already satisfied: packaging>=20.0 in /home/julien/.local/lib/python3.10/site-packages (from matplotlib) (24.2)\n",
      "Requirement already satisfied: pillow>=8 in /usr/lib/python3/dist-packages (from matplotlib) (9.0.1)\n",
      "Requirement already satisfied: pyparsing>=2.3.1 in /usr/lib/python3/dist-packages (from matplotlib) (2.4.7)\n",
      "Requirement already satisfied: python-dateutil>=2.7 in /home/julien/.local/lib/python3.10/site-packages (from matplotlib) (2.9.0.post0)\n",
      "Requirement already satisfied: six>=1.5 in /usr/lib/python3/dist-packages (from python-dateutil>=2.7->matplotlib) (1.16.0)\n",
      "Defaulting to user installation because normal site-packages is not writeable\n",
      "Requirement already satisfied: pandas in /home/julien/.local/lib/python3.10/site-packages (2.2.3)\n",
      "Requirement already satisfied: numpy>=1.22.4 in /home/julien/.local/lib/python3.10/site-packages (from pandas) (1.26.4)\n",
      "Requirement already satisfied: python-dateutil>=2.8.2 in /home/julien/.local/lib/python3.10/site-packages (from pandas) (2.9.0.post0)\n",
      "Requirement already satisfied: pytz>=2020.1 in /usr/lib/python3/dist-packages (from pandas) (2022.1)\n",
      "Requirement already satisfied: tzdata>=2022.7 in /home/julien/.local/lib/python3.10/site-packages (from pandas) (2024.2)\n",
      "Requirement already satisfied: six>=1.5 in /usr/lib/python3/dist-packages (from python-dateutil>=2.8.2->pandas) (1.16.0)\n",
      "Defaulting to user installation because normal site-packages is not writeable\n",
      "Requirement already satisfied: pyspark in /home/julien/.local/lib/python3.10/site-packages (3.5.4)\n",
      "Requirement already satisfied: py4j==0.10.9.7 in /home/julien/.local/lib/python3.10/site-packages (from pyspark) (0.10.9.7)\n"
     ]
    }
   ],
   "source": [
    "# Installation des dépendances\n",
    "import sys\n",
    "!{sys.executable} -m pip install \"numpy<2.0\"\n",
    "!{sys.executable} -m pip install matplotlib\n",
    "!{sys.executable} -m pip install pandas\n",
    "!{sys.executable} -m pip install pyspark\n",
    "#{sys.executable} -m pip install tabulate\n"
   ]
  },
  {
   "cell_type": "markdown",
   "metadata": {},
   "source": [
    "---"
   ]
  },
  {
   "cell_type": "code",
   "execution_count": 79,
   "metadata": {},
   "outputs": [
    {
     "name": "stderr",
     "output_type": "stream",
     "text": [
      "[Stage 1107:==========================================>             (6 + 2) / 8]\r"
     ]
    },
    {
     "name": "stdout",
     "output_type": "stream",
     "text": [
      "\n",
      "Dimensions du dataset : (3739909, 40)\n"
     ]
    },
    {
     "name": "stderr",
     "output_type": "stream",
     "text": [
      "                                                                                \r"
     ]
    }
   ],
   "source": [
    "#import chess\n",
    "#import chess.svg\n",
    "\n",
    "import pandas as pd\n",
    "import numpy as np\n",
    "import matplotlib.pyplot as plt\n",
    "#import spark\n",
    "\n",
    "from pyspark.sql import SparkSession\n",
    "from pyspark.sql.functions import col, when, mean, sum as _sum, count , Column, lit, DataFrame\n",
    "from pyspark.sql.window import Window\n",
    "from pyspark.sql.utils import AnalysisException\n",
    "\n",
    "# Configuration des répertoires de sauvegarde et de chargement des données\n",
    "save_results_DIR\t= 'results/'\n",
    "save_figures_DIR\t= 'figures/'\n",
    "data_DIR\t\t\t= 'data/'\n",
    "data_FILE\t\t\t= 'Sept_20_analysis.csv'\n",
    "\n",
    "# Création des répertoires de sauvegarde\n",
    "from os import makedirs\n",
    "\n",
    "makedirs(save_results_DIR, exist_ok=True)\n",
    "makedirs(save_figures_DIR, exist_ok=True)\n",
    "\n",
    "# Initialiser une session Spark\n",
    "spark = SparkSession.builder.appName(\"Lichess Analysis\").getOrCreate()\n",
    "\n",
    "# Charger les données depuis le fichier CSV (remplacez par le chemin du fichier si besoin)\n",
    "data_path = data_DIR + data_FILE\n",
    "df = spark.read.csv(data_path, header=True, inferSchema=True)\n",
    "\n",
    "# Définition des catégories elo :\n",
    "\n",
    "ELO_CATEGORIES = [\"beginner\", \n",
    "         \"occasional player\", \n",
    "         \"good club player\", \n",
    "         \"very good club player\", \n",
    "         \"national and international level (IM)\", \n",
    "         \"GMI, World Champions\", \n",
    "         \"Grand Master\"]\n",
    "\n",
    "# Aperçu des données\n",
    "#df.show(5)\n",
    "print(\"\\nDimensions du dataset :\", (df.count(), len(df.columns)))\n"
   ]
  },
  {
   "cell_type": "markdown",
   "metadata": {},
   "source": [
    "# Question 1 :\n",
    "Quel est le taux de bévues, d'erreurs et d'imprécisions par coup, par catégorie de niveau (*) et sur les différents types de parties ?  \n",
    "Le classement d'une partie dans une catégorie, est fait en tenant compte  de l'ELO moyen des deux joueurs.\n",
    "\n",
    "(*) Les catégories de niveau sont :\n",
    "- [0-1199]    débutant\n",
    "- [1200-1499] joueur occasionnel \n",
    "- [1500-1799] bon joueur de club \n",
    "- [1800-1999] très bon joueur de club \n",
    "- [2000-2399] niveau national et international (IM) \n",
    "- [2400-2800] GMI, champions du monde\n",
    "- [2800+    ] Grands Maîtres"
   ]
  },
  {
   "cell_type": "markdown",
   "metadata": {},
   "source": [
    "## Définition des catégories de niveau en fonction de l'ELO  :"
   ]
  },
  {
   "cell_type": "code",
   "execution_count": 68,
   "metadata": {},
   "outputs": [],
   "source": [
    "def categorize_elo(columns):\n",
    "    global ELO_CATEGORIES\n",
    "    \n",
    "    column: Column = None\n",
    "    if isinstance(columns, tuple):\n",
    "        # Calculer la moyenne des deux colonnes\n",
    "        column = (col(columns[0]) + col(columns[1]))/2\n",
    "    elif isinstance(columns, str):\n",
    "        column = col(columns)\n",
    "    elif not isinstance(columns, Column):\n",
    "        raise ValueError(\"Invalid input\")\n",
    "    \n",
    "    return  when(( column < 1200),                     ELO_CATEGORIES[0]) \\\n",
    "           .when(( column >= 1200) & (column < 1500),  ELO_CATEGORIES[1]) \\\n",
    "           .when(( column >= 1500) & (column < 1800),  ELO_CATEGORIES[2]) \\\n",
    "           .when(( column >= 1800) & (column < 2000),  ELO_CATEGORIES[3]) \\\n",
    "           .when(( column >= 2000) & (column < 2400),  ELO_CATEGORIES[4]) \\\n",
    "           .when(( column >= 2400) & (column <= 2800), ELO_CATEGORIES[5]) \\\n",
    "           .when(( column > 2800),                     ELO_CATEGORIES[6]) \\\n",
    "           .otherwise(\"Unknown\")\n",
    "           \n",
    "#from pyspark.sql import functions as F\n",
    "\n",
    "def order_dict_by_ELO(d: dict):\n",
    "    global ELO_CATEGORIES  # Liste globale contenant l'ordre des catégories\n",
    "    \n",
    "    for game_type, df in d.items():\n",
    "        # Vérifier si la colonne 'Category' existe dans le DataFrame\n",
    "        if \"Category\" in df.columns:\n",
    "            # Ajouter une colonne temporaire '_order' basée sur l'ordre dans ELO_CATEGORIES\n",
    "            order_expr = lit(len(ELO_CATEGORIES) + 1)  # Valeur par défaut pour les catégories inconnues\n",
    "            for idx, cat in enumerate(ELO_CATEGORIES, start=1):\n",
    "                order_expr = when(col(\"Category\") == cat, idx).otherwise(order_expr)\n",
    "            \n",
    "            df = df.withColumn(\"_order\", order_expr)  # Appliquer l'expression de tri\n",
    "            \n",
    "            # Trier le DataFrame par la colonne '_order' et supprimer cette colonne\n",
    "            df = df.orderBy(\"_order\").drop(\"_order\")\n",
    "            \n",
    "            # Mettre à jour le DataFrame trié dans le dictionnaire\n",
    "            d[game_type] = df\n",
    "    \n",
    "    return d\n",
    "\n",
    "\n",
    "# Ajouter les colonnes pour les catégories des joueurs\n",
    "df = df.withColumn(\"White_elo_category\", categorize_elo(\"WhiteElo\"))\n",
    "df = df.withColumn(\"Black_elo_category\", categorize_elo(\"BlackElo\"))\n",
    "df = df.withColumn(\"Average_elo_category\", categorize_elo( (\"WhiteElo\",\"BlackElo\") ))"
   ]
  },
  {
   "cell_type": "markdown",
   "metadata": {},
   "source": [
    "## Calcul des taux par type de parties :\n",
    "Dans un premier temps, on s'intéresse aux taux de bévues, d'erreurs et d'imprécisions par type de parties.  \n",
    "On va afficher ces taux globalement en faisant fi des des disparités de niveau entre les joueurs.  \n",
    "Toutefois, en classant le niveau de la partie en fonction de l'ELO moyen des deux joueurs, on pourra affiner les résultats.\n",
    "On va donc pour chaque type de partie, afficher ces taux en fonction de la catégorie de niveau de la partie.\n",
    "On s'attend donc globalement à avoir des taux plus importants pour les parties de niveau plus faible.\n",
    "De même, on s'attend à avoir des taux plus importants pour les parties les plus courtes (bullet) et les taux les plus faibles pour les parties les plus longues (classique)."
   ]
  },
  {
   "cell_type": "code",
   "execution_count": 69,
   "metadata": {},
   "outputs": [
    {
     "name": "stderr",
     "output_type": "stream",
     "text": [
      "                                                                                \r"
     ]
    },
    {
     "name": "stdout",
     "output_type": "stream",
     "text": [
      "\n",
      "Taux pour les parties de type Bullet :\n"
     ]
    },
    {
     "name": "stderr",
     "output_type": "stream",
     "text": [
      "                                                                                \r"
     ]
    },
    {
     "name": "stdout",
     "output_type": "stream",
     "text": [
      "Category                                           | Blunder Rate    | Mistake Rate    | Inaccuracy Rate\n",
      "--------------------------------------------------------------------------------------------------------\n",
      "beginner                                               9.58%         10.50%               9.39%\n",
      "occasional player                                      8.17%         10.37%               9.44%\n",
      "good club player                                       6.87%         10.12%               9.48%\n",
      "very good club player                                  5.88%          9.72%               9.36%\n",
      "national and international level (IM)                  5.13%          8.97%               8.97%\n",
      "GMI, World Champions                                   4.30%          7.72%               7.95%\n",
      "Grand Master                                           4.08%          7.30%               7.59%\n",
      "\n",
      "Taux pour les parties de type Blitz :\n"
     ]
    },
    {
     "name": "stderr",
     "output_type": "stream",
     "text": [
      "                                                                                \r"
     ]
    },
    {
     "name": "stdout",
     "output_type": "stream",
     "text": [
      "Category                                           | Blunder Rate    | Mistake Rate    | Inaccuracy Rate\n",
      "--------------------------------------------------------------------------------------------------------\n",
      "beginner                                               9.42%         10.62%               9.01%\n",
      "occasional player                                      7.46%         10.26%               9.03%\n",
      "good club player                                       5.92%          9.74%               9.07%\n",
      "very good club player                                  4.89%          9.05%               8.87%\n",
      "national and international level (IM)                  4.07%          8.06%               8.30%\n",
      "GMI, World Champions                                   3.17%          6.57%               7.25%\n",
      "Grand Master                                           2.54%          5.31%               6.39%\n",
      "\n",
      "Taux pour les parties de type Classical :\n"
     ]
    },
    {
     "name": "stderr",
     "output_type": "stream",
     "text": [
      "                                                                                \r"
     ]
    },
    {
     "name": "stdout",
     "output_type": "stream",
     "text": [
      "Category                                           | Blunder Rate    | Mistake Rate    | Inaccuracy Rate\n",
      "--------------------------------------------------------------------------------------------------------\n",
      "beginner                                              10.18%         10.48%               8.90%\n",
      "occasional player                                      7.48%         10.08%               8.70%\n",
      "good club player                                       5.32%          9.27%               8.59%\n",
      "very good club player                                  3.91%          8.23%               8.22%\n",
      "national and international level (IM)                  2.91%          6.83%               7.57%\n",
      "GMI, World Champions                                   1.58%          3.87%               5.63%\n",
      "\n",
      "Taux pour les parties de type Rapid :\n"
     ]
    },
    {
     "name": "stderr",
     "output_type": "stream",
     "text": [
      "                                                                                \r"
     ]
    },
    {
     "name": "stdout",
     "output_type": "stream",
     "text": [
      "Category                                           | Blunder Rate    | Mistake Rate    | Inaccuracy Rate\n",
      "--------------------------------------------------------------------------------------------------------\n",
      "beginner                                              10.03%         10.62%               8.84%\n",
      "occasional player                                      7.50%         10.23%               8.69%\n",
      "good club player                                       5.74%          9.65%               8.70%\n",
      "very good club player                                  4.56%          8.87%               8.60%\n",
      "national and international level (IM)                  3.62%          7.67%               8.00%\n",
      "GMI, World Champions                                   2.28%          5.50%               6.62%\n",
      "\n",
      "Taux pour les parties de type Correspondence :\n"
     ]
    },
    {
     "name": "stderr",
     "output_type": "stream",
     "text": [
      "[Stage 1081:===================================>                    (5 + 3) / 8]\r"
     ]
    },
    {
     "name": "stdout",
     "output_type": "stream",
     "text": [
      "Category                                           | Blunder Rate    | Mistake Rate    | Inaccuracy Rate\n",
      "--------------------------------------------------------------------------------------------------------\n",
      "beginner                                              12.03%          8.12%               7.19%\n",
      "occasional player                                      7.16%          9.68%               8.16%\n",
      "good club player                                       5.41%          9.16%               8.37%\n",
      "very good club player                                  3.50%          8.20%               8.35%\n",
      "national and international level (IM)                  1.90%          5.32%               6.96%\n",
      "GMI, World Champions                                   0.29%          0.78%               2.25%\n"
     ]
    },
    {
     "name": "stderr",
     "output_type": "stream",
     "text": [
      "                                                                                \r"
     ]
    }
   ],
   "source": [
    "\n",
    "def calculate_rates_by_game_type(data, game_type_column)-> dict:\n",
    "    rates : dict = {}\n",
    "    game_types = data.select(game_type_column).distinct().rdd.flatMap(lambda x: x).collect()\n",
    "\n",
    "    for game_type in game_types:\n",
    "        # Filtrer les données pour le type de partie en cours\n",
    "        filtered_data = data.filter(col(game_type_column) == game_type)\n",
    "        \n",
    "        # Calcul des métriques par catégorie d'ELO moyenne\n",
    "        aggregated = filtered_data.groupBy(\"Average_elo_category\").agg(\n",
    "            ((_sum(col(\"Black_blunders\")) + _sum(col(\"White_blunders\"))) / _sum(col(\"Total_moves\"))).alias(\"Blunder_rate\"),\n",
    "            ((_sum(col(\"Black_mistakes\")) + _sum(col(\"White_mistakes\"))) / _sum(col(\"Total_moves\"))).alias(\"Mistake_rate\"),\n",
    "            ((_sum(col(\"Black_inaccuracies\")) + _sum(col(\"White_inaccuracies\"))) / _sum(col(\"Total_moves\"))).alias(\"Inaccuracy_rate\")\n",
    "        )\n",
    "        \n",
    "        # Renommer les colonnes avec des noms explicites incluant le type de partie\n",
    "        renamed = aggregated.select(\n",
    "            col(\"Average_elo_category\").alias(\"Category\"),\n",
    "            col(\"Blunder_rate\").alias(f\"{game_type}_Blunder_rate\"),\n",
    "            col(\"Mistake_rate\").alias(f\"{game_type}_Mistake_rate\"),\n",
    "            col(\"Inaccuracy_rate\").alias(f\"{game_type}_Inaccuracy_rate\")\n",
    "        )\n",
    "        \n",
    "        # Ajouter les résultats dans le dictionnaire\n",
    "        rates[game_type] = renamed\n",
    "\n",
    "    order_dict_by_ELO(rates)\n",
    "    \n",
    "    return rates\n",
    "\n",
    "\n",
    "rates_by_game_type = calculate_rates_by_game_type(df, \"Game_type\")\n",
    "\n",
    "for game_type, rates in rates_by_game_type.items():\n",
    "    print(f\"\\nTaux pour les parties de type {game_type} :\")\n",
    "    # Récupérer les données\n",
    "    data = rates.collect()\n",
    "    header = f\"{'Category':50} | {'Blunder Rate':<15} | {'Mistake Rate':<15} | {'Inaccuracy Rate':<15}\"\n",
    "    print(header)\n",
    "    print(\"-\" * len(header))\n",
    "    for row in data:\n",
    "        print(f\"{row['Category'] : <50}{row[f'{game_type}_Blunder_rate'] : ^15.2%}{row[f'{game_type}_Mistake_rate'] : ^15.2%}{row[f'{game_type}_Inaccuracy_rate'] : >15.2%}\")"
   ]
  },
  {
   "cell_type": "markdown",
   "metadata": {},
   "source": [
    "Nos attentes sont confirmées par les résultats obtenus.\n",
    "Globalement, plus la partie est courte, plus les taux sont élevés.\n",
    "De même, plus le niveau de la partie est faible, plus les taux sont élevés et inversement.\n",
    "De plus si l'écart du taux d'erreurs/ bévues / imprécisions entre les plus faibles et les plus forts est relativement important pour les parties les plus longues, l'écart se réduit pour les parties les plus courtes."
   ]
  },
  {
   "cell_type": "markdown",
   "metadata": {},
   "source": [
    "### Calcul des taux dans une même catégorie ELO et par type de partie"
   ]
  },
  {
   "cell_type": "code",
   "execution_count": null,
   "metadata": {},
   "outputs": [
    {
     "name": "stderr",
     "output_type": "stream",
     "text": [
      "                                                                                \r"
     ]
    },
    {
     "name": "stdout",
     "output_type": "stream",
     "text": [
      "\n",
      "Taux pour les parties de type Bullet avec joueurs dans la même catégorie :\n"
     ]
    },
    {
     "name": "stderr",
     "output_type": "stream",
     "text": [
      "                                                                                \r"
     ]
    },
    {
     "name": "stdout",
     "output_type": "stream",
     "text": [
      "Category                                           | Blunder Rate    | Mistake Rate    | Inaccuracy Rate\n",
      "--------------------------------------------------------------------------------------------------------\n",
      "beginner                                               9.59%         10.52%               9.38%\n",
      "occasional player                                      7.93%         10.45%               9.46%\n",
      "good club player                                       6.73%         10.20%               9.52%\n",
      "very good club player                                  5.84%          9.81%               9.42%\n",
      "national and international level (IM)                  5.10%          9.02%               9.01%\n",
      "GMI, World Champions                                   4.26%          7.68%               7.93%\n",
      "Grand Master                                           4.10%          7.32%               7.55%\n",
      "\n",
      "Taux pour les parties de type Blitz avec joueurs dans la même catégorie :\n"
     ]
    },
    {
     "name": "stderr",
     "output_type": "stream",
     "text": [
      "Exception in thread \"serve-DataFrame\" java.net.SocketTimeoutException: Accept timed out\n",
      "\tat java.base/java.net.PlainSocketImpl.socketAccept(Native Method)\n",
      "\tat java.base/java.net.AbstractPlainSocketImpl.accept(AbstractPlainSocketImpl.java:474)\n",
      "\tat java.base/java.net.ServerSocket.implAccept(ServerSocket.java:565)\n",
      "\tat java.base/java.net.ServerSocket.accept(ServerSocket.java:533)\n",
      "\tat org.apache.spark.security.SocketAuthServer$$anon$1.run(SocketAuthServer.scala:65)\n"
     ]
    },
    {
     "name": "stdout",
     "output_type": "stream",
     "text": [
      "Category                                           | Blunder Rate    | Mistake Rate    | Inaccuracy Rate\n",
      "--------------------------------------------------------------------------------------------------------\n",
      "beginner                                               9.47%         10.68%               8.99%\n",
      "occasional player                                      7.36%         10.36%               9.02%\n",
      "good club player                                       5.96%          9.85%               9.10%\n",
      "very good club player                                  4.98%          9.19%               8.93%\n",
      "national and international level (IM)                  4.11%          8.10%               8.32%\n",
      "GMI, World Champions                                   3.15%          6.49%               7.19%\n",
      "Grand Master                                           3.51%          5.50%               6.05%\n",
      "\n",
      "Taux pour les parties de type Classical avec joueurs dans la même catégorie :\n"
     ]
    },
    {
     "name": "stderr",
     "output_type": "stream",
     "text": [
      "                                                                                \r"
     ]
    },
    {
     "name": "stdout",
     "output_type": "stream",
     "text": [
      "Category                                           | Blunder Rate    | Mistake Rate    | Inaccuracy Rate\n",
      "--------------------------------------------------------------------------------------------------------\n",
      "beginner                                              10.53%         10.64%               8.94%\n",
      "occasional player                                      7.79%         10.32%               8.70%\n",
      "good club player                                       5.51%          9.47%               8.66%\n",
      "very good club player                                  4.04%          8.44%               8.31%\n",
      "national and international level (IM)                  2.86%          6.78%               7.54%\n",
      "GMI, World Champions                                   1.41%          3.87%               5.58%\n",
      "\n",
      "Taux pour les parties de type Rapid avec joueurs dans la même catégorie :\n"
     ]
    },
    {
     "name": "stderr",
     "output_type": "stream",
     "text": [
      "                                                                                \r"
     ]
    },
    {
     "name": "stdout",
     "output_type": "stream",
     "text": [
      "Category                                           | Blunder Rate    | Mistake Rate    | Inaccuracy Rate\n",
      "--------------------------------------------------------------------------------------------------------\n",
      "beginner                                              10.20%         10.70%               8.85%\n",
      "occasional player                                      7.56%         10.34%               8.69%\n",
      "good club player                                       5.83%          9.76%               8.73%\n",
      "very good club player                                  4.68%          9.03%               8.68%\n",
      "national and international level (IM)                  3.62%          7.65%               7.99%\n",
      "GMI, World Champions                                   2.09%          5.52%               6.30%\n",
      "\n",
      "Taux pour les parties de type Correspondence avec joueurs dans la même catégorie :\n"
     ]
    },
    {
     "name": "stderr",
     "output_type": "stream",
     "text": [
      "[Stage 136:>                                                        (0 + 8) / 8]\r"
     ]
    },
    {
     "name": "stdout",
     "output_type": "stream",
     "text": [
      "Category                                           | Blunder Rate    | Mistake Rate    | Inaccuracy Rate\n",
      "--------------------------------------------------------------------------------------------------------\n",
      "beginner                                               8.62%          3.45%              12.07%\n",
      "occasional player                                      7.43%          9.98%               8.30%\n",
      "good club player                                       5.63%          9.34%               8.37%\n",
      "very good club player                                  3.47%          8.19%               8.64%\n",
      "national and international level (IM)                  1.83%          4.96%               6.62%\n",
      "GMI, World Champions                                   0.13%          0.63%               2.14%\n"
     ]
    },
    {
     "name": "stderr",
     "output_type": "stream",
     "text": [
      "                                                                                \r"
     ]
    }
   ],
   "source": [
    "# Filtrer les parties où les deux joueurs sont dans la même catégorie, par type de partie\n",
    "def calculate_rates_for_same_category(data, game_type_column) -> dict :\n",
    "    rates :dict = {}\n",
    "    game_types = data.select(game_type_column).distinct().rdd.flatMap(lambda x: x).collect()\n",
    "    for game_type in game_types:    \n",
    "        filtered_data = data.filter((col(game_type_column) == game_type) & (col(\"White_elo_category\") == col(\"Black_elo_category\")))\n",
    "        rates_by_category = filtered_data.groupBy(\"White_elo_category\").agg(\n",
    "            ( (_sum(col(\"Black_blunders\")) + _sum(col(\"White_blunders\"))) / _sum(col(\"Total_moves\")) ).alias(\"Blunder_rate\"),\n",
    "            ( (_sum(col(\"Black_mistakes\")) + _sum(col(\"White_mistakes\"))) / _sum(col(\"Total_moves\")) ).alias(\"Mistake_rate\"),\n",
    "            ( (_sum(col(\"Black_inaccuracies\")) + _sum(col(\"White_inaccuracies\"))) / _sum(col(\"Total_moves\")) ).alias(\"Inaccuracy_rate\")\n",
    "        )\n",
    "        #renamed = rates_by_category\n",
    "        renamed = rates_by_category.select(\n",
    "            col(\"White_elo_category\").alias(\"Category\"),\n",
    "            col(\"Blunder_rate\").alias(\"Blunder_rate\"),\n",
    "            col(\"Mistake_rate\").alias(\"Mistake_rate\"),\n",
    "            col(\"Inaccuracy_rate\").alias(\"Inaccuracy_rate\")\n",
    "        ).orderBy(\"Category\")\n",
    "        \n",
    "        rates[game_type] = renamed\n",
    "        \n",
    "    order_dict_by_ELO(rates)\n",
    "    \n",
    "    return rates\n",
    "\n",
    "rates_same_category_by_game_type = calculate_rates_for_same_category(df, \"Game_type\")\n",
    "\n",
    "for game_type, rates in rates_same_category_by_game_type.items():\n",
    "    print(f\"\\nTaux pour les parties de type {game_type} avec joueurs dans la même catégorie :\")\n",
    "    data = rates.collect()\n",
    "    header = f\"{'Category':50} | {'Blunder Rate':<15} | {'Mistake Rate':<15} | {'Inaccuracy Rate':<15}\"\n",
    "    print(header)\n",
    "    print(\"-\" * len(header))\n",
    "    for row in data:\n",
    "        print(f\"{row['Category'] : <50}{row['Blunder_rate'] : ^15.2%}{row['Mistake_rate'] : ^15.2%}{row['Inaccuracy_rate'] : >15.2%}\")\n",
    "    "
   ]
  },
  {
   "cell_type": "markdown",
   "metadata": {},
   "source": [
    "### Visualisation des données"
   ]
  },
  {
   "cell_type": "code",
   "execution_count": null,
   "metadata": {},
   "outputs": [],
   "source": [
    "for game_type, rates in rates_by_game_type.items():\n",
    "    rates_pd = rates.toPandas()\n",
    "    rates_pd_melted = pd.melt(rates_pd, id_vars=['Category'], var_name='Metric', value_name='Rate')\n",
    "\n",
    "    plt.figure(figsize=(12, 6))\n",
    "    for metric in ['Blunder_rate', 'Mistake_rate', 'Inaccuracy_rate']:\n",
    "        subset = rates_pd_melted[rates_pd_melted['Metric'] == metric]\n",
    "        plt.plot(subset['Category'], subset['Rate'], label=metric)\n",
    "\n",
    "    plt.title(f'Taux de Blunders, Erreurs et Imprécisions par catégorie (ELO moyen) - {game_type}')\n",
    "    plt.xlabel('Catégorie Elo Moyenne')\n",
    "    plt.ylabel('Taux')\n",
    "    plt.xticks(rotation=45)\n",
    "    plt.legend()\n",
    "    plt.tight_layout()\n",
    "    plt.savefig(save_figures_DIR + f'rates_by_category_{game_type}.png')\n",
    "    plt.show()\n",
    "    plt.close()\n",
    "\n",
    "for game_type, rates in rates_same_category_by_game_type.items():\n",
    "    rates_pd = rates.toPandas()\n",
    "    rates_pd_melted = pd.melt(rates_pd, id_vars=['Category'], var_name='Metric', value_name='Rate')\n",
    "\n",
    "    plt.figure(figsize=(12, 6))\n",
    "    for metric in ['Blunder_rate', 'Mistake_rate', 'Inaccuracy_rate']:\n",
    "        subset = rates_pd_melted[rates_pd_melted['Metric'] == metric]\n",
    "        plt.plot(subset['Category'], subset['Rate'], label=metric)\n",
    "\n",
    "    plt.title(f'Taux de Blunders, Erreurs et Imprécisions par catégorie (même catégorie) - {game_type}')\n",
    "    plt.xlabel('Catégorie Elo')\n",
    "    plt.ylabel('Taux')\n",
    "    plt.xticks(rotation=45)\n",
    "    plt.legend()\n",
    "    plt.tight_layout()\n",
    "    plt.savefig(save_figures_DIR + f'rates_same_category_{game_type}.png')\n",
    "    plt.show()\n",
    "    plt.close()"
   ]
  },
  {
   "cell_type": "markdown",
   "metadata": {},
   "source": [
    "### Sauvegarde des résultats"
   ]
  },
  {
   "cell_type": "code",
   "execution_count": 28,
   "metadata": {},
   "outputs": [
    {
     "name": "stderr",
     "output_type": "stream",
     "text": [
      "                                                                                \r"
     ]
    },
    {
     "ename": "AnalysisException",
     "evalue": "[PATH_ALREADY_EXISTS] Path file:/home/julien/Cours/Cours3A/Traitement_donnees/Projet/Projet-Processing/results/rates_by_average_elo_Bullet.csv already exists. Set mode as \"overwrite\" to overwrite the existing path.",
     "output_type": "error",
     "traceback": [
      "\u001b[0;31m---------------------------------------------------------------------------\u001b[0m",
      "\u001b[0;31mAnalysisException\u001b[0m                         Traceback (most recent call last)",
      "\u001b[0;32m/tmp/ipykernel_329644/2022298440.py\u001b[0m in \u001b[0;36m<module>\u001b[0;34m\u001b[0m\n\u001b[1;32m      1\u001b[0m \u001b[0;32mfor\u001b[0m \u001b[0mgame_type\u001b[0m\u001b[0;34m,\u001b[0m \u001b[0mrates\u001b[0m \u001b[0;32min\u001b[0m \u001b[0mrates_by_game_type\u001b[0m\u001b[0;34m.\u001b[0m\u001b[0mitems\u001b[0m\u001b[0;34m(\u001b[0m\u001b[0;34m)\u001b[0m\u001b[0;34m:\u001b[0m\u001b[0;34m\u001b[0m\u001b[0;34m\u001b[0m\u001b[0m\n\u001b[1;32m      2\u001b[0m     \u001b[0mpath\u001b[0m \u001b[0;34m=\u001b[0m \u001b[0;34mf\"{save_results_DIR}rates_by_average_elo_{game_type}.csv\"\u001b[0m\u001b[0;34m\u001b[0m\u001b[0;34m\u001b[0m\u001b[0m\n\u001b[0;32m----> 3\u001b[0;31m     \u001b[0mrates\u001b[0m\u001b[0;34m.\u001b[0m\u001b[0mwrite\u001b[0m\u001b[0;34m.\u001b[0m\u001b[0mcsv\u001b[0m\u001b[0;34m(\u001b[0m\u001b[0mpath\u001b[0m\u001b[0;34m,\u001b[0m \u001b[0mheader\u001b[0m\u001b[0;34m=\u001b[0m\u001b[0;32mTrue\u001b[0m\u001b[0;34m)\u001b[0m\u001b[0;34m\u001b[0m\u001b[0;34m\u001b[0m\u001b[0m\n\u001b[0m\u001b[1;32m      4\u001b[0m     \u001b[0mprint\u001b[0m\u001b[0;34m(\u001b[0m\u001b[0;34mf\"\\nLes résultats pour les parties de type {game_type} ont été sauvegardés dans {path}.\"\u001b[0m\u001b[0;34m)\u001b[0m\u001b[0;34m\u001b[0m\u001b[0;34m\u001b[0m\u001b[0m\n\u001b[1;32m      5\u001b[0m \u001b[0;34m\u001b[0m\u001b[0m\n",
      "\u001b[0;32m~/.local/lib/python3.10/site-packages/pyspark/sql/readwriter.py\u001b[0m in \u001b[0;36mcsv\u001b[0;34m(self, path, mode, compression, sep, quote, escape, header, nullValue, escapeQuotes, quoteAll, dateFormat, timestampFormat, ignoreLeadingWhiteSpace, ignoreTrailingWhiteSpace, charToEscapeQuoteEscaping, encoding, emptyValue, lineSep)\u001b[0m\n\u001b[1;32m   1862\u001b[0m             \u001b[0mlineSep\u001b[0m\u001b[0;34m=\u001b[0m\u001b[0mlineSep\u001b[0m\u001b[0;34m,\u001b[0m\u001b[0;34m\u001b[0m\u001b[0;34m\u001b[0m\u001b[0m\n\u001b[1;32m   1863\u001b[0m         )\n\u001b[0;32m-> 1864\u001b[0;31m         \u001b[0mself\u001b[0m\u001b[0;34m.\u001b[0m\u001b[0m_jwrite\u001b[0m\u001b[0;34m.\u001b[0m\u001b[0mcsv\u001b[0m\u001b[0;34m(\u001b[0m\u001b[0mpath\u001b[0m\u001b[0;34m)\u001b[0m\u001b[0;34m\u001b[0m\u001b[0;34m\u001b[0m\u001b[0m\n\u001b[0m\u001b[1;32m   1865\u001b[0m \u001b[0;34m\u001b[0m\u001b[0m\n\u001b[1;32m   1866\u001b[0m     def orc(\n",
      "\u001b[0;32m~/.local/lib/python3.10/site-packages/py4j/java_gateway.py\u001b[0m in \u001b[0;36m__call__\u001b[0;34m(self, *args)\u001b[0m\n\u001b[1;32m   1320\u001b[0m \u001b[0;34m\u001b[0m\u001b[0m\n\u001b[1;32m   1321\u001b[0m         \u001b[0manswer\u001b[0m \u001b[0;34m=\u001b[0m \u001b[0mself\u001b[0m\u001b[0;34m.\u001b[0m\u001b[0mgateway_client\u001b[0m\u001b[0;34m.\u001b[0m\u001b[0msend_command\u001b[0m\u001b[0;34m(\u001b[0m\u001b[0mcommand\u001b[0m\u001b[0;34m)\u001b[0m\u001b[0;34m\u001b[0m\u001b[0;34m\u001b[0m\u001b[0m\n\u001b[0;32m-> 1322\u001b[0;31m         return_value = get_return_value(\n\u001b[0m\u001b[1;32m   1323\u001b[0m             answer, self.gateway_client, self.target_id, self.name)\n\u001b[1;32m   1324\u001b[0m \u001b[0;34m\u001b[0m\u001b[0m\n",
      "\u001b[0;32m~/.local/lib/python3.10/site-packages/pyspark/errors/exceptions/captured.py\u001b[0m in \u001b[0;36mdeco\u001b[0;34m(*a, **kw)\u001b[0m\n\u001b[1;32m    183\u001b[0m                 \u001b[0;31m# Hide where the exception came from that shows a non-Pythonic\u001b[0m\u001b[0;34m\u001b[0m\u001b[0;34m\u001b[0m\u001b[0m\n\u001b[1;32m    184\u001b[0m                 \u001b[0;31m# JVM exception message.\u001b[0m\u001b[0;34m\u001b[0m\u001b[0;34m\u001b[0m\u001b[0m\n\u001b[0;32m--> 185\u001b[0;31m                 \u001b[0;32mraise\u001b[0m \u001b[0mconverted\u001b[0m \u001b[0;32mfrom\u001b[0m \u001b[0;32mNone\u001b[0m\u001b[0;34m\u001b[0m\u001b[0;34m\u001b[0m\u001b[0m\n\u001b[0m\u001b[1;32m    186\u001b[0m             \u001b[0;32melse\u001b[0m\u001b[0;34m:\u001b[0m\u001b[0;34m\u001b[0m\u001b[0;34m\u001b[0m\u001b[0m\n\u001b[1;32m    187\u001b[0m                 \u001b[0;32mraise\u001b[0m\u001b[0;34m\u001b[0m\u001b[0;34m\u001b[0m\u001b[0m\n",
      "\u001b[0;31mAnalysisException\u001b[0m: [PATH_ALREADY_EXISTS] Path file:/home/julien/Cours/Cours3A/Traitement_donnees/Projet/Projet-Processing/results/rates_by_average_elo_Bullet.csv already exists. Set mode as \"overwrite\" to overwrite the existing path."
     ]
    }
   ],
   "source": [
    "for game_type, rates in rates_by_game_type.items():\n",
    "    path = f\"{save_results_DIR}rates_by_average_elo_{game_type}.csv\"\n",
    "    try:\n",
    "        rates.write.csv(path, header=True)\n",
    "        print(f\"\\nLes résultats pour les parties de type {game_type} ont été sauvegardés dans {path}.\")\n",
    "    except Exception as e:\n",
    "        print(f\"Erreur lors de la sauvegarde des résultats pour le type de partie {game_type} : {e}\")\n",
    "\n",
    "for game_type, rates in rates_same_category_by_game_type.items():\n",
    "    path = f\"{save_results_DIR}rates_same_category_{game_type}.csv\"\n",
    "    try:\n",
    "        rates.write.csv(path, header=True)\n",
    "        print(f\"\\nLes résultats pour les parties de type {game_type} avec joueurs dans la même catégorie ont été sauvegardés dans {path}.\")\n",
    "    except Exception as e:\n",
    "        print(f\"Erreur lors de la sauvegarde des résultats pour le type de partie {game_type} : {e}\")\n"
   ]
  },
  {
   "cell_type": "markdown",
   "metadata": {},
   "source": [
    "---"
   ]
  },
  {
   "cell_type": "markdown",
   "metadata": {},
   "source": [
    "# Etude sur les facteurs de victoires\n",
    "\n",
    "En dehors des erreurs, bévues et imprécisions des joueurs, d'autres facteurs peuvent influencer le résultat d'une partie.\n",
    "On se demande donc à présent quelles caractéristiques influent sur le résultat d'une partie et dans quelle mesure.\n",
    "Des facteurs de victoires apparents semblent être  la couleur et le niveau des joueurs.\n",
    "En effet, les blancs jouant en premier pourraient librement développer leur jeu et ainsi avoir un avantage sur les noirs.\n",
    "De plus, les joueurs de niveau plus élevé pourraient avoir un avantage sur les joueurs de niveau inférieur, étant à priori plus expérimentés et/ou plus compétents.\n",
    "On pourra donc se demander :  \n",
    "- Les blancs ont-ils un avantage sur les noirs ?  \n",
    "- Etant les premiers à jouer, ont-ils plus de chance de gagner ?  \n",
    "- Si oui, cet avantage est-il plus marqué selon les parties plus ou moins longues ?  \n",
    "- Cet avantage est-il plus marqué selon le niveau des joueurs ?  \n",
    "- Si le premier coup offre un avantage, est-ce que l'expérience supérieure de l'adverse peut lui permettre de palier à cet avantage ?  "
   ]
  },
  {
   "cell_type": "code",
   "execution_count": 52,
   "metadata": {},
   "outputs": [
    {
     "name": "stderr",
     "output_type": "stream",
     "text": [
      "                                                                                \r"
     ]
    },
    {
     "name": "stdout",
     "output_type": "stream",
     "text": [
      "Résultats pour les parties de type Bullet :\n",
      "\n",
      "Category                                              Result     Bullet_CountBullet_Proportion\n",
      "----------------------------------------------------------------------------------------------\n"
     ]
    },
    {
     "name": "stderr",
     "output_type": "stream",
     "text": [
      "                                                                                \r"
     ]
    },
    {
     "name": "stdout",
     "output_type": "stream",
     "text": [
      "GMI, World Champions                                     *           1               0.01%\n",
      "GMI, World Champions                                    0-1         4440            44.34%\n",
      "GMI, World Champions                                    1-0         4932            49.26%\n",
      "GMI, World Champions                                  1/2-1/2       640              6.39%\n",
      "Grand Master                                            0-1         502             42.43%\n",
      "Grand Master                                            1-0         592             50.04%\n",
      "Grand Master                                          1/2-1/2        89              7.52%\n",
      "beginner                                                0-1        62567            49.38%\n",
      "beginner                                                1-0        63138            49.83%\n",
      "beginner                                              1/2-1/2       999              0.79%\n",
      "good club player                                         *           2               0.00%\n",
      "good club player                                        0-1        119377           48.19%\n",
      "good club player                                        1-0        125114           50.51%\n",
      "good club player                                      1/2-1/2       3211             1.30%\n",
      "national and international level (IM)                    *           2               0.00%\n",
      "national and international level (IM)                   0-1        36716            46.74%\n",
      "national and international level (IM)                   1-0        39350            50.10%\n",
      "national and international level (IM)                 1/2-1/2       2478             3.15%\n",
      "occasional player                                        *           2               0.00%\n",
      "occasional player                                       0-1        115028           48.98%\n",
      "occasional player                                       1-0        117466           50.02%\n",
      "occasional player                                     1/2-1/2       2339             1.00%\n",
      "very good club player                                    *           1               0.00%\n",
      "very good club player                                   0-1        51317            47.86%\n",
      "very good club player                                   1-0        53945            50.32%\n",
      "very good club player                                 1/2-1/2       1951             1.82%\n",
      "Résultats pour les parties de type Blitz :\n",
      "\n",
      "Category                                              Result     Blitz_CountBlitz_Proportion\n",
      "--------------------------------------------------------------------------------------------\n"
     ]
    },
    {
     "name": "stderr",
     "output_type": "stream",
     "text": [
      "                                                                                \r"
     ]
    },
    {
     "name": "stdout",
     "output_type": "stream",
     "text": [
      "GMI, World Champions                                     *           3               0.01%\n",
      "GMI, World Champions                                    0-1         8772            42.29%\n",
      "GMI, World Champions                                    1-0         9835            47.42%\n",
      "GMI, World Champions                                  1/2-1/2       2132            10.28%\n",
      "Grand Master                                            0-1          52             40.00%\n",
      "Grand Master                                            1-0          62             47.69%\n",
      "Grand Master                                          1/2-1/2        16             12.31%\n",
      "beginner                                                 *           1               0.00%\n",
      "beginner                                                0-1        111259           47.91%\n",
      "beginner                                                1-0        116463           50.16%\n",
      "beginner                                              1/2-1/2       4482             1.93%\n",
      "good club player                                         *           5               0.00%\n",
      "good club player                                        0-1        259347           47.20%\n",
      "good club player                                        1-0        274326           49.93%\n",
      "good club player                                      1/2-1/2      15751             2.87%\n",
      "national and international level (IM)                    *           12              0.00%\n",
      "national and international level (IM)                   0-1        112634           45.04%\n",
      "national and international level (IM)                   1-0        123278           49.29%\n",
      "national and international level (IM)                 1/2-1/2      14161             5.66%\n",
      "occasional player                                        *           4               0.00%\n",
      "occasional player                                       0-1        222577           47.59%\n",
      "occasional player                                       1-0        235042           50.25%\n",
      "occasional player                                     1/2-1/2      10109             2.16%\n",
      "very good club player                                    *           12              0.00%\n",
      "very good club player                                   0-1        135983           46.60%\n",
      "very good club player                                   1-0        144691           49.59%\n",
      "very good club player                                 1/2-1/2      11111             3.81%\n",
      "Résultats pour les parties de type Classical :\n",
      "\n",
      "Category                                              Result     Classical_CountClassical_Proportion\n",
      "----------------------------------------------------------------------------------------------------\n"
     ]
    },
    {
     "name": "stderr",
     "output_type": "stream",
     "text": [
      "                                                                                \r"
     ]
    },
    {
     "name": "stdout",
     "output_type": "stream",
     "text": [
      "GMI, World Champions                                    0-1          34             41.98%\n",
      "GMI, World Champions                                    1-0          29             35.80%\n",
      "GMI, World Champions                                  1/2-1/2        18             22.22%\n",
      "beginner                                                0-1         2602            47.57%\n",
      "beginner                                                1-0         2726            49.84%\n",
      "beginner                                              1/2-1/2       142              2.60%\n",
      "good club player                                         *           1               0.00%\n",
      "good club player                                        0-1        30555            47.23%\n",
      "good club player                                        1-0        31961            49.40%\n",
      "good club player                                      1/2-1/2       2183             3.37%\n",
      "national and international level (IM)                    *           4               0.03%\n",
      "national and international level (IM)                   0-1         4887            42.55%\n",
      "national and international level (IM)                   1-0         5377            46.82%\n",
      "national and international level (IM)                 1/2-1/2       1216            10.59%\n",
      "occasional player                                       0-1        16156            48.12%\n",
      "occasional player                                       1-0        16736            49.85%\n",
      "occasional player                                     1/2-1/2       680              2.03%\n",
      "very good club player                                   0-1        13418            45.69%\n",
      "very good club player                                   1-0        14235            48.47%\n",
      "very good club player                                 1/2-1/2       1717             5.85%\n",
      "Résultats pour les parties de type Rapid :\n",
      "\n",
      "Category                                              Result     Rapid_CountRapid_Proportion\n",
      "--------------------------------------------------------------------------------------------\n"
     ]
    },
    {
     "name": "stderr",
     "output_type": "stream",
     "text": [
      "                                                                                \r"
     ]
    },
    {
     "name": "stdout",
     "output_type": "stream",
     "text": [
      "GMI, World Champions                                    0-1         408             40.80%\n",
      "GMI, World Champions                                    1-0         455             45.50%\n",
      "GMI, World Champions                                  1/2-1/2       137             13.70%\n",
      "beginner                                                 *           1               0.00%\n",
      "beginner                                                0-1        43348            47.91%\n",
      "beginner                                                1-0        45248            50.01%\n",
      "beginner                                              1/2-1/2       1889             2.09%\n",
      "good club player                                         *           5               0.00%\n",
      "good club player                                        0-1        164112           46.96%\n",
      "good club player                                        1-0        174216           49.85%\n",
      "good club player                                      1/2-1/2      11132             3.19%\n",
      "national and international level (IM)                    *           8               0.01%\n",
      "national and international level (IM)                   0-1        40907            45.16%\n",
      "national and international level (IM)                   1-0        43599            48.13%\n",
      "national and international level (IM)                 1/2-1/2       6077             6.71%\n",
      "occasional player                                        *           2               0.00%\n",
      "occasional player                                       0-1        128832           47.51%\n",
      "occasional player                                       1-0        135583           50.00%\n",
      "occasional player                                     1/2-1/2       6757             2.49%\n",
      "very good club player                                    *           6               0.00%\n",
      "very good club player                                   0-1        75925            46.34%\n",
      "very good club player                                   1-0        80441            49.09%\n",
      "very good club player                                 1/2-1/2       7481             4.57%\n",
      "Résultats pour les parties de type Correspondence :\n",
      "\n",
      "Category                                              Result     Correspondence_CountCorrespondence_Proportion\n",
      "--------------------------------------------------------------------------------------------------------------\n"
     ]
    },
    {
     "name": "stderr",
     "output_type": "stream",
     "text": [
      "                                                                                \r"
     ]
    },
    {
     "name": "stdout",
     "output_type": "stream",
     "text": [
      "GMI, World Champions                                    0-1          5              26.32%\n",
      "GMI, World Champions                                    1-0          5              26.32%\n",
      "GMI, World Champions                                  1/2-1/2        9              47.37%\n",
      "beginner                                                0-1          6              75.00%\n",
      "beginner                                                1-0          2              25.00%\n",
      "good club player                                        0-1         2397            46.13%\n",
      "good club player                                        1-0         2562            49.31%\n",
      "good club player                                      1/2-1/2       237              4.56%\n",
      "national and international level (IM)                   0-1         377             39.89%\n",
      "national and international level (IM)                   1-0         426             45.08%\n",
      "national and international level (IM)                 1/2-1/2       142             15.03%\n",
      "occasional player                                       0-1         836             44.75%\n",
      "occasional player                                       1-0         931             49.84%\n",
      "occasional player                                     1/2-1/2       101              5.41%\n",
      "very good club player                                   0-1         1019            44.15%\n",
      "very good club player                                   1-0         1128            48.87%\n",
      "very good club player                                 1/2-1/2       161              6.98%\n"
     ]
    }
   ],
   "source": [
    "def result_proportions(df):\n",
    "    \"\"\"Propensions globales des résultats.\"\"\"\n",
    "    total_games = df.count()  # Nombre total de parties\n",
    "    return df.groupBy(\"Result\").agg(\n",
    "        (count(\"*\") / total_games).alias(\"Proportion\")\n",
    "    ).orderBy(\"Result\")\n",
    "\n",
    "def global_result_by_category_and_type(df):\n",
    "    \"\"\"Proportions des résultats par niveau moyen d'elo et type de partie, avec calcul correct des proportions.\"\"\"\n",
    "    \n",
    "    # Calcul du nombre total de parties par catégorie d'elo moyen et type de partie\n",
    "    window = Window.partitionBy(\"Average_elo_category\", \"Game_type\")\n",
    "    \n",
    "    # Calcul du nombre total de parties, renommé pour éviter les conflits\n",
    "    total_games = df.groupBy(\"Average_elo_category\", \"Game_type\").count().withColumnRenamed(\"count\", \"Total\")\n",
    "    \n",
    "    # Calcul des résultats et du nombre de parties par catégorie d'elo et type de partie\n",
    "    results = df.groupBy(\"Average_elo_category\", \"Game_type\", \"Result\").agg(\n",
    "        count(\"*\").alias(\"Count\")\n",
    "    )\n",
    "    \n",
    "    # Fusionner les résultats avec les totaux pour chaque groupe (catégorie + type de partie)\n",
    "    results_with_totals = results.join(total_games, on=[\"Average_elo_category\", \"Game_type\"], how=\"inner\")\n",
    "    \n",
    "    # Calcul des proportions\n",
    "    results_with_proportions = results_with_totals.withColumn(\n",
    "        \"Proportion\", col(\"Count\") / col(\"Total\")\n",
    "    ).orderBy(\"Average_elo_category\", \"Game_type\", \"Result\")\n",
    "    \n",
    "    # Créer un dictionnaire pour les résultats par type de partie\n",
    "    results_dict = {}\n",
    "    game_types = df.select(\"Game_type\").distinct().rdd.flatMap(lambda x: x).collect()\n",
    "    \n",
    "    for game_type in game_types:\n",
    "        filtered_data = results_with_proportions.filter(col(\"Game_type\") == game_type)\n",
    "        \n",
    "        # Réorganiser les résultats par catégorie et type de partie\n",
    "        renamed = filtered_data.select(\n",
    "            col(\"Average_elo_category\").alias(\"Category\"),\n",
    "            col(\"Result\").alias(\"Result\"),\n",
    "            col(\"Count\").alias(f\"{game_type}_Count\"),  # Renommage de Count pour éviter ambiguïté\n",
    "            col(\"Proportion\").alias(f\"{game_type}_Proportion\")  # Renommage de Proportion\n",
    "        ).orderBy(\"Category\", \"Result\")\n",
    "        \n",
    "        results_dict[game_type] = renamed\n",
    "    \n",
    "    return results_dict\n",
    "\n",
    "# Exemple d'utilisation\n",
    "global_result_by_category_type = global_result_by_category_and_type(df)\n",
    "\n",
    "# Affichage des résultats\n",
    "for game_type, results in global_result_by_category_type.items():\n",
    "    print(f\"Résultats pour les parties de type {game_type} :\\n\")\n",
    "    header = f\"{'Category': <50}{'Result': ^15}{f'{game_type}_Count': ^10}{f'{game_type}_Proportion': >15}\"\n",
    "    print(header)\n",
    "    print(\"-\" * len(header))\n",
    "    \n",
    "    # Conversion des données en liste pour un affichage plus simple\n",
    "    data = results.collect()\n",
    "    for row in data:\n",
    "        print(f\"{row['Category'] : <50}{row['Result'] : ^15}{row[f'{game_type}_Count'] : ^10}{row[f'{game_type}_Proportion'] : >15.2%}\")\n",
    "\n",
    "\n",
    "def white_result_when_elo_higher(df):\n",
    "    \"\"\"Propensions des blancs lorsque leur ELO est supérieur à celui des noirs.\"\"\"\n",
    "    filtered = df.filter(col(\"WhiteElo\") > col(\"BlackElo\"))\n",
    "    total_games = filtered.count()\n",
    "    return filtered.groupBy(\"Result\").agg(\n",
    "        count(\"*\").alias(\"Count\"),\n",
    "        (count(\"*\") / total_games).alias(\"Proportion\")\n",
    "    ).orderBy(\"Result\")\n",
    "\n",
    "def white_result_higher_elo_diff_category(df):\n",
    "    \"\"\"Résultats des blancs lorsque leur ELO est supérieur à celui des noirs et que les catégories diffèrent.\"\"\"\n",
    "    filtered = df.filter(\n",
    "        (col(\"WhiteElo\") > col(\"BlackElo\")) & \n",
    "        (col(\"White_elo_category\") != col(\"Black_elo_category\"))\n",
    "    )\n",
    "    total_games = filtered.count()\n",
    "    return filtered.groupBy(\"Result\").agg(\n",
    "        count(\"*\").alias(\"Count\"),\n",
    "        (count(\"*\") / total_games).alias(\"Proportion\")\n",
    "    ).orderBy(\"Result\")\n",
    "\n",
    "def black_result_when_elo_higher(df):\n",
    "    \"\"\"Résultats des noirs lorsque leur ELO est supérieur à celui des blancs.\"\"\"\n",
    "    filtered = df.filter(col(\"BlackElo\") > col(\"WhiteElo\"))\n",
    "    total_games = filtered.count()\n",
    "    return filtered.groupBy(\"Result\").agg(\n",
    "        count(\"*\").alias(\"Count\"),\n",
    "        (count(\"*\") / total_games).alias(\"Proportion\")\n",
    "    ).orderBy(\"Result\")\n",
    "    \n",
    "def black_result_when_elo_higher_diff_category(df):\n",
    "    \"\"\"Résultats des noirs lorsque leur ELO est supérieur à celui des blancs et que les catégories diffèrent.\"\"\"\n",
    "    filtered = df.filter(\n",
    "        (col(\"BlackElo\") > col(\"WhiteElo\")) & \n",
    "        (col(\"White_elo_category\") != col(\"Black_elo_category\"))\n",
    "    )\n",
    "    total_games = filtered.count()\n",
    "    return filtered.groupBy(\"Result\").agg(\n",
    "        count(\"*\").alias(\"Count\"),\n",
    "        (count(\"*\") / total_games).alias(\"Proportion\")\n",
    "    ).orderBy(\"Result\")\n",
    "\n",
    "def result_when_elo_higher(df):\n",
    "    \"\"\"Propensions globales (sans distinction de couleur) pour les joueurs avec un ELO supérieur.\"\"\"\n",
    "    filtered = df.filter(col(\"WhiteElo\") != col(\"BlackElo\"))\n",
    "    total_games = filtered.count()\n",
    "    return filtered.groupBy(\"Result\").agg(\n",
    "        count(\"*\").alias(\"Count\"),\n",
    "        (count(\"*\") / total_games).alias(\"Proportion\")\n",
    "    ).orderBy(\"Result\")\n",
    "\n",
    "def result_higher_elo_diff_category(df):\n",
    "    \"\"\"Propensions globales pour les joueurs avec un ELO supérieur et des catégories différentes.\"\"\"\n",
    "    filtered = df.filter(\n",
    "        (col(\"WhiteElo\") != col(\"BlackElo\")) & \n",
    "        (col(\"White_elo_category\") != col(\"Black_elo_category\"))\n",
    "    )\n",
    "    total_games = filtered.count()\n",
    "    return filtered.groupBy(\"Result\").agg(\n",
    "        count(\"*\").alias(\"Count\"),\n",
    "        (count(\"*\") / total_games).alias(\"Proportion\")\n",
    "    ).orderBy(\"Result\")\n",
    "    \n",
    "    \n",
    "# Afficher les propensions des résultats\n",
    "def print_result_proportions(res):\n",
    "    \"\"\"Afficher les propensions des résultats.\"\"\"\n",
    "    match_result = {\"1-0\": \"Victoire Blancs\", \"0-1\": \"Victoire Noirs\", \"1/2-1/2\": \"Nul\", \"*\": \"Résultat inconnu\"}\n",
    "    results = res.collect()\n",
    "    for row in results:\n",
    "        if row['Result'] == \"*\":\n",
    "            continue\n",
    "        print(f\"{match_result[row['Result']]:<10} : {row['Proportion']:.2%}\")\n"
   ]
  },
  {
   "cell_type": "code",
   "execution_count": null,
   "metadata": {},
   "outputs": [
    {
     "name": "stdout",
     "output_type": "stream",
     "text": [
      "\n",
      "Propensions des résultats globaux :\n"
     ]
    },
    {
     "name": "stderr",
     "output_type": "stream",
     "text": [
      "                                                                                \r"
     ]
    },
    {
     "name": "stdout",
     "output_type": "stream",
     "text": [
      "\n",
      "Propensions des résultats :\n",
      "Victoire Noirs : 47.23%\n",
      "Victoire Blancs : 49.84%\n",
      "Nul        : 2.93%\n",
      "\n",
      "Propensions des résultats par niveau et par type de partie :\n"
     ]
    },
    {
     "name": "stderr",
     "output_type": "stream",
     "text": [
      "                                                                                \r"
     ]
    },
    {
     "name": "stdout",
     "output_type": "stream",
     "text": [
      "\n",
      "Résultats pour les parties de type Bullet :\n"
     ]
    },
    {
     "name": "stderr",
     "output_type": "stream",
     "text": [
      "                                                                                \r"
     ]
    },
    {
     "name": "stdout",
     "output_type": "stream",
     "text": [
      "Category                                           | Result          | Count      | Proportion     \n",
      "---------------------------------------------------------------------------------------------------\n",
      "GMI, World Champions                                     *           1               0.01%\n",
      "GMI, World Champions                                    0-1         4440            44.34%\n",
      "GMI, World Champions                                    1-0         4932            49.26%\n",
      "GMI, World Champions                                  1/2-1/2       640              6.39%\n",
      "Grand Master                                            0-1         502             42.43%\n",
      "Grand Master                                            1-0         592             50.04%\n",
      "Grand Master                                          1/2-1/2        89              7.52%\n",
      "beginner                                                0-1        62567            49.38%\n",
      "beginner                                                1-0        63138            49.83%\n",
      "beginner                                              1/2-1/2       999              0.79%\n",
      "good club player                                         *           2               0.00%\n",
      "good club player                                        0-1        119377           48.19%\n",
      "good club player                                        1-0        125114           50.51%\n",
      "good club player                                      1/2-1/2       3211             1.30%\n",
      "national and international level (IM)                    *           2               0.00%\n",
      "national and international level (IM)                   0-1        36716            46.74%\n",
      "national and international level (IM)                   1-0        39350            50.10%\n",
      "national and international level (IM)                 1/2-1/2       2478             3.15%\n",
      "occasional player                                        *           2               0.00%\n",
      "occasional player                                       0-1        115028           48.98%\n",
      "occasional player                                       1-0        117466           50.02%\n",
      "occasional player                                     1/2-1/2       2339             1.00%\n",
      "very good club player                                    *           1               0.00%\n",
      "very good club player                                   0-1        51317            47.86%\n",
      "very good club player                                   1-0        53945            50.32%\n",
      "very good club player                                 1/2-1/2       1951             1.82%\n",
      "\n",
      "Résultats pour les parties de type Blitz :\n"
     ]
    },
    {
     "name": "stderr",
     "output_type": "stream",
     "text": [
      "                                                                                \r"
     ]
    },
    {
     "name": "stdout",
     "output_type": "stream",
     "text": [
      "Category                                           | Result          | Count      | Proportion     \n",
      "---------------------------------------------------------------------------------------------------\n",
      "GMI, World Champions                                     *           3               0.01%\n",
      "GMI, World Champions                                    0-1         8772            42.29%\n",
      "GMI, World Champions                                    1-0         9835            47.42%\n",
      "GMI, World Champions                                  1/2-1/2       2132            10.28%\n",
      "Grand Master                                            0-1          52             40.00%\n",
      "Grand Master                                            1-0          62             47.69%\n",
      "Grand Master                                          1/2-1/2        16             12.31%\n",
      "beginner                                                 *           1               0.00%\n",
      "beginner                                                0-1        111259           47.91%\n",
      "beginner                                                1-0        116463           50.16%\n",
      "beginner                                              1/2-1/2       4482             1.93%\n",
      "good club player                                         *           5               0.00%\n",
      "good club player                                        0-1        259347           47.20%\n",
      "good club player                                        1-0        274326           49.93%\n",
      "good club player                                      1/2-1/2      15751             2.87%\n",
      "national and international level (IM)                    *           12              0.00%\n",
      "national and international level (IM)                   0-1        112634           45.04%\n",
      "national and international level (IM)                   1-0        123278           49.29%\n",
      "national and international level (IM)                 1/2-1/2      14161             5.66%\n",
      "occasional player                                        *           4               0.00%\n",
      "occasional player                                       0-1        222577           47.59%\n",
      "occasional player                                       1-0        235042           50.25%\n",
      "occasional player                                     1/2-1/2      10109             2.16%\n",
      "very good club player                                    *           12              0.00%\n",
      "very good club player                                   0-1        135983           46.60%\n",
      "very good club player                                   1-0        144691           49.59%\n",
      "very good club player                                 1/2-1/2      11111             3.81%\n",
      "\n",
      "Résultats pour les parties de type Classical :\n"
     ]
    },
    {
     "name": "stderr",
     "output_type": "stream",
     "text": [
      "                                                                                \r"
     ]
    },
    {
     "name": "stdout",
     "output_type": "stream",
     "text": [
      "Category                                           | Result          | Count      | Proportion     \n",
      "---------------------------------------------------------------------------------------------------\n",
      "GMI, World Champions                                    0-1          34             41.98%\n",
      "GMI, World Champions                                    1-0          29             35.80%\n",
      "GMI, World Champions                                  1/2-1/2        18             22.22%\n",
      "beginner                                                0-1         2602            47.57%\n",
      "beginner                                                1-0         2726            49.84%\n",
      "beginner                                              1/2-1/2       142              2.60%\n",
      "good club player                                         *           1               0.00%\n",
      "good club player                                        0-1        30555            47.23%\n",
      "good club player                                        1-0        31961            49.40%\n",
      "good club player                                      1/2-1/2       2183             3.37%\n",
      "national and international level (IM)                    *           4               0.03%\n",
      "national and international level (IM)                   0-1         4887            42.55%\n",
      "national and international level (IM)                   1-0         5377            46.82%\n",
      "national and international level (IM)                 1/2-1/2       1216            10.59%\n",
      "occasional player                                       0-1        16156            48.12%\n",
      "occasional player                                       1-0        16736            49.85%\n",
      "occasional player                                     1/2-1/2       680              2.03%\n",
      "very good club player                                   0-1        13418            45.69%\n",
      "very good club player                                   1-0        14235            48.47%\n",
      "very good club player                                 1/2-1/2       1717             5.85%\n",
      "\n",
      "Résultats pour les parties de type Rapid :\n"
     ]
    },
    {
     "name": "stderr",
     "output_type": "stream",
     "text": [
      "                                                                                \r"
     ]
    },
    {
     "name": "stdout",
     "output_type": "stream",
     "text": [
      "Category                                           | Result          | Count      | Proportion     \n",
      "---------------------------------------------------------------------------------------------------\n",
      "GMI, World Champions                                    0-1         408             40.80%\n",
      "GMI, World Champions                                    1-0         455             45.50%\n",
      "GMI, World Champions                                  1/2-1/2       137             13.70%\n",
      "beginner                                                 *           1               0.00%\n",
      "beginner                                                0-1        43348            47.91%\n",
      "beginner                                                1-0        45248            50.01%\n",
      "beginner                                              1/2-1/2       1889             2.09%\n",
      "good club player                                         *           5               0.00%\n",
      "good club player                                        0-1        164112           46.96%\n",
      "good club player                                        1-0        174216           49.85%\n",
      "good club player                                      1/2-1/2      11132             3.19%\n",
      "national and international level (IM)                    *           8               0.01%\n",
      "national and international level (IM)                   0-1        40907            45.16%\n",
      "national and international level (IM)                   1-0        43599            48.13%\n",
      "national and international level (IM)                 1/2-1/2       6077             6.71%\n",
      "occasional player                                        *           2               0.00%\n",
      "occasional player                                       0-1        128832           47.51%\n",
      "occasional player                                       1-0        135583           50.00%\n",
      "occasional player                                     1/2-1/2       6757             2.49%\n",
      "very good club player                                    *           6               0.00%\n",
      "very good club player                                   0-1        75925            46.34%\n",
      "very good club player                                   1-0        80441            49.09%\n",
      "very good club player                                 1/2-1/2       7481             4.57%\n",
      "\n",
      "Résultats pour les parties de type Correspondence :\n"
     ]
    },
    {
     "name": "stderr",
     "output_type": "stream",
     "text": [
      "                                                                                \r"
     ]
    },
    {
     "name": "stdout",
     "output_type": "stream",
     "text": [
      "Category                                           | Result          | Count      | Proportion     \n",
      "---------------------------------------------------------------------------------------------------\n",
      "GMI, World Champions                                    0-1          5              26.32%\n",
      "GMI, World Champions                                    1-0          5              26.32%\n",
      "GMI, World Champions                                  1/2-1/2        9              47.37%\n",
      "beginner                                                0-1          6              75.00%\n",
      "beginner                                                1-0          2              25.00%\n",
      "good club player                                        0-1         2397            46.13%\n",
      "good club player                                        1-0         2562            49.31%\n",
      "good club player                                      1/2-1/2       237              4.56%\n",
      "national and international level (IM)                   0-1         377             39.89%\n",
      "national and international level (IM)                   1-0         426             45.08%\n",
      "national and international level (IM)                 1/2-1/2       142             15.03%\n",
      "occasional player                                       0-1         836             44.75%\n",
      "occasional player                                       1-0         931             49.84%\n",
      "occasional player                                     1/2-1/2       101              5.41%\n",
      "very good club player                                   0-1         1019            44.15%\n",
      "very good club player                                   1-0         1128            48.87%\n",
      "very good club player                                 1/2-1/2       161              6.98%\n"
     ]
    },
    {
     "name": "stderr",
     "output_type": "stream",
     "text": [
      "                                                                                \r"
     ]
    },
    {
     "name": "stdout",
     "output_type": "stream",
     "text": [
      "\n",
      "Propensions des résultats des blancs avec ELO supérieur :\n"
     ]
    },
    {
     "name": "stderr",
     "output_type": "stream",
     "text": [
      "                                                                                \r"
     ]
    },
    {
     "name": "stdout",
     "output_type": "stream",
     "text": [
      "\n",
      "Propensions des résultats :\n",
      "Victoire Noirs : 42.07%\n",
      "Victoire Blancs : 55.02%\n",
      "Nul        : 2.91%\n"
     ]
    },
    {
     "name": "stderr",
     "output_type": "stream",
     "text": [
      "                                                                                \r"
     ]
    },
    {
     "name": "stdout",
     "output_type": "stream",
     "text": [
      "\n",
      "Propensions des résultats des blancs avec ELO supérieur et catégories différentes :\n"
     ]
    },
    {
     "name": "stderr",
     "output_type": "stream",
     "text": [
      "                                                                                \r"
     ]
    },
    {
     "name": "stdout",
     "output_type": "stream",
     "text": [
      "\n",
      "Propensions des résultats :\n",
      "Victoire Noirs : 34.29%\n",
      "Victoire Blancs : 62.91%\n",
      "Nul        : 2.80%\n"
     ]
    },
    {
     "name": "stderr",
     "output_type": "stream",
     "text": [
      "                                                                                \r"
     ]
    },
    {
     "name": "stdout",
     "output_type": "stream",
     "text": [
      "\n",
      "Propensions des résultats des noirs avec ELO supérieur :\n"
     ]
    },
    {
     "name": "stderr",
     "output_type": "stream",
     "text": [
      "                                                                                \r"
     ]
    },
    {
     "name": "stdout",
     "output_type": "stream",
     "text": [
      "\n",
      "Propensions des résultats :\n",
      "Victoire Noirs : 52.35%\n",
      "Victoire Blancs : 44.68%\n",
      "Nul        : 2.97%\n"
     ]
    },
    {
     "name": "stderr",
     "output_type": "stream",
     "text": [
      "                                                                                \r"
     ]
    },
    {
     "name": "stdout",
     "output_type": "stream",
     "text": [
      "\n",
      "Propensions des résultats des noirs avec ELO supérieur et catégories différentes :\n"
     ]
    },
    {
     "name": "stderr",
     "output_type": "stream",
     "text": [
      "[Stage 1020:=====================>                                  (3 + 5) / 8]\r"
     ]
    },
    {
     "name": "stdout",
     "output_type": "stream",
     "text": [
      "\n",
      "Propensions des résultats :\n",
      "Victoire Noirs : 60.70%\n",
      "Victoire Blancs : 36.34%\n",
      "Nul        : 2.96%\n"
     ]
    },
    {
     "name": "stderr",
     "output_type": "stream",
     "text": [
      "                                                                                \r"
     ]
    }
   ],
   "source": [
    "# Propensions globales des blancs\n",
    "print(\"\\nPropensions des résultats globaux :\")\n",
    "global_result = result_proportions(df)\n",
    "print_result_proportions(global_result)\n",
    "\n",
    "# Propensions par niveau et type de partie\n",
    "print(\"\\nPropensions des résultats par niveau et par type de partie :\")\n",
    "\n",
    "global_result_by_category_type = global_result_by_category_and_type(df)\n",
    "\n",
    "for game_type, results in global_result_by_category_type.items():\n",
    "    print(f\"\\nRésultats pour les parties de type {game_type} :\")\n",
    "    match_result = {\"1-0\": \"Victoire Blancs\", \"0-1\": \"Victoire Noirs\", \"1/2-1/2\": \"Nul\", \"*\": \"Résultat inconnu\"}\n",
    "    data = results.collect()\n",
    "    header = f\"{'Category':<50} | {'Result':30} | {'Count':10} | {'Proportion':>15}\"\n",
    "    print(header)\n",
    "    print(\"-\" * len(header))\n",
    "    for row in data:\n",
    "        if row['Result'] == \"*\":\n",
    "            continue\n",
    "    \n",
    "        print(f\"{row['Category'] : <50}{match_result[row['Result']] : ^30}{row[f'{game_type}_Count'] : ^10}{row[f'{game_type}_Proportion'] : >15.2%}\")\n",
    "\n",
    "\n",
    "# Propensions des résultats des blancs avec ELO supérieur\n",
    "white_elo_higher = white_result_when_elo_higher(df)\n",
    "#white_elo_higher.show()\n",
    "print(\"\\nPropensions des résultats des blancs avec ELO supérieur :\")\n",
    "print_result_proportions(white_elo_higher)\n",
    "\n",
    "# Propensions des résultats des blancs avec ELO supérieur + catégories différentes\n",
    "white_elo_diff_category = white_result_higher_elo_diff_category(df)\n",
    "#white_elo_diff_category.show()\n",
    "print(\"\\nPropensions des résultats des blancs avec ELO supérieur et catégories différentes :\")\n",
    "print_result_proportions(white_elo_diff_category)\n",
    "\n",
    "# Propensions des résultats des noirs avec ELO supérieur\n",
    "black_elo_higher = black_result_when_elo_higher(df)\n",
    "#black_elo_higher.show()\n",
    "print(\"\\nPropensions des résultats des noirs avec ELO supérieur :\")\n",
    "print_result_proportions(black_elo_higher)\n",
    "\n",
    "# Propensions des résultats des noirs avec ELO supérieur + catégories différentes\n",
    "black_elo_higher_diff_category = black_result_when_elo_higher_diff_category(df)\n",
    "#black_elo_higher_diff_category.show()\n",
    "print(\"\\nPropensions des résultats des noirs avec ELO supérieur et catégories différentes :\")\n",
    "print_result_proportions(black_elo_higher_diff_category)"
   ]
  },
  {
   "cell_type": "markdown",
   "metadata": {},
   "source": [
    "On observe ici plusieurs choses :\n",
    "- Les blancs semblent avoir un léger avantage globalement sur les noirs, leur taux de victoire est légèrement supérieur.\n",
    "- Plus les parties sont courtes, plus cet avantage est marqué. Et ce, quelque soit le niveau des joueurs.\n",
    "- En revanche, cet avantage est reduit pour les parties plus longues, et encore plus pour les parties de niveau plus élevé.\n",
    "- Un joueur avec un elo plus élevé a un petit avantage sur un joueur avec un elo plus faible, quelque soit la couleur des pièces, avec toutefois, un léger bonus pour les blancs.\n",
    "- Cet avantage est encore plus visible quand les catégories des joueurs sont différentes.\n",
    "\n",
    "Notons tout de même que ces avantages sont relativement faibles.  \n",
    "Hormis pour les parties où les joueurs ont des catégories de niveau différentes, les taux de victoire sont relativement proches."
   ]
  },
  {
   "cell_type": "markdown",
   "metadata": {},
   "source": [
    "---\n",
    "# Question 2 :\n",
    "On s'intéresse maintenant aux stratégies permettant la victoire.  \n",
    "Il s'agira donc ici de chercher à détecter les ouvertures les plus efficaces pour les blancs et les noirs.  \n",
    "On déterminera ainsi les ouvertures les plus efficaces en fonction du niveau des joueurs et du type de parties."
   ]
  },
  {
   "cell_type": "code",
   "execution_count": 91,
   "metadata": {},
   "outputs": [],
   "source": [
    "def calculate_white_opening_rates_by_game_type(df, game_type_column):\n",
    "    rates = {}\n",
    "    game_types = df.select(game_type_column).distinct().rdd.flatMap(lambda x: x).collect()\n",
    "\n",
    "    for game_type in game_types:\n",
    "        # Filtrer les données pour le type de partie en cours\n",
    "        filtered_data = df.filter(col(game_type_column) == game_type)\n",
    "\n",
    "        # Calcul des victoires pour les blancs par ouverture et catégorie d'ELO\n",
    "        aggregated_white = filtered_data.groupBy(\"Opening\", \"Game_type\", \"White_elo_category\") \\\n",
    "            .agg(\n",
    "                count(when(col(\"Result\") == \"1-0\", 1)).alias(\"WhiteWins\"),  # Nombre de victoires des blancs\n",
    "                count(\"*\").alias(\"TotalGamesWhite\")  # Nombre total de parties pour les blancs\n",
    "            )\n",
    "\n",
    "        # Calculer le taux de victoire pour les blancs\n",
    "        aggregated_white = aggregated_white.withColumn(\n",
    "            \"WhiteWinRate\", col(\"WhiteWins\") / col(\"TotalGamesWhite\")\n",
    "        )\n",
    "\n",
    "        # Grouper par type de partie et catégorie d'ELO pour obtenir le total des victoires\n",
    "        grouped_white = aggregated_white.groupBy(\"Game_type\", \"White_elo_category\").agg(\n",
    "            _sum(\"WhiteWins\").alias(\"TotalWhiteWins\"), \n",
    "            _sum(\"TotalGamesWhite\").alias(\"TotalGamesWhite\")\n",
    "        )\n",
    "\n",
    "        # Calculer le taux de victoire total pour chaque type de partie et catégorie d'ELO\n",
    "        grouped_white = grouped_white.withColumn(\n",
    "            \"SuccessRate\", col(\"TotalWhiteWins\") / col(\"TotalGamesWhite\")\n",
    "        )\n",
    "\n",
    "        # Joindre les résultats pour obtenir le taux de victoire par ouverture et type de partie\n",
    "        final_result = aggregated_white.join(grouped_white, [\"Game_type\", \"White_elo_category\"])\n",
    "\n",
    "        # Trier par taux de succès des ouvertures en ordre décroissant\n",
    "        final_result = final_result.orderBy(col(\"WhiteWinRate\"), ascending=False)\n",
    "\n",
    "        # Sélectionner les 3 meilleures ouvertures\n",
    "        top_3_openings = final_result.limit(3)\n",
    "\n",
    "        # Ajouter les résultats dans le dictionnaire\n",
    "        rates[game_type] = top_3_openings\n",
    "\n",
    "    return rates\n",
    "\n",
    "\n",
    "def calculate_black_opening_rates_by_game_type(df, game_type_column):\n",
    "    rates = {}\n",
    "    game_types = df.select(game_type_column).distinct().rdd.flatMap(lambda x: x).collect()\n",
    "\n",
    "    for game_type in game_types:\n",
    "        filtered_data = df.filter(col(game_type_column) == game_type)\n",
    "\n",
    "        aggregated = filtered_data.groupBy(\"Opening\", \"Game_type\", \"Black_elo_category\") \\\n",
    "            .agg(\n",
    "                count(when(col(\"Result\") == \"0-1\", 1)).alias(\"BlackWins\"),\n",
    "                count(\"*\").alias(\"TotalGames\")\n",
    "            )\n",
    "\n",
    "        aggregated = aggregated.withColumn(\"WinRate\", col(\"BlackWins\") / col(\"TotalGames\"))\n",
    "\n",
    "        rates[game_type] = aggregated\n",
    "\n",
    "    return rates\n"
   ]
  },
  {
   "cell_type": "code",
   "execution_count": 93,
   "metadata": {},
   "outputs": [
    {
     "name": "stderr",
     "output_type": "stream",
     "text": [
      "                                                                                \r"
     ]
    },
    {
     "name": "stdout",
     "output_type": "stream",
     "text": [
      "\n",
      "Meilleures ouvertures pour les blancs dans le type de partie Bullet :\n"
     ]
    },
    {
     "name": "stderr",
     "output_type": "stream",
     "text": [
      "                                                                                \r"
     ]
    },
    {
     "name": "stdout",
     "output_type": "stream",
     "text": [
      "+---------+------------------+------------------------------------------------------------+---------+---------------+------------+--------------+---------------+-------------------+\n",
      "|Game_type|White_elo_category|Opening                                                     |WhiteWins|TotalGamesWhite|WhiteWinRate|TotalWhiteWins|TotalGamesWhite|SuccessRate        |\n",
      "+---------+------------------+------------------------------------------------------------+---------+---------------+------------+--------------+---------------+-------------------+\n",
      "|Bullet   |Low rating        |Caro-Kann Defense: Karpov Variation, Tiviakov-Fischer Attack|1        |1              |1.0         |328815        |665120         |0.49436943709405823|\n",
      "|Bullet   |Low rating        |Sicilian Defense: Scheveningen, Classical Main Line         |1        |1              |1.0         |328815        |665120         |0.49436943709405823|\n",
      "|Bullet   |Low rating        |Evans Gambit, Fraser Attack                                 |1        |1              |1.0         |328815        |665120         |0.49436943709405823|\n",
      "+---------+------------------+------------------------------------------------------------+---------+---------------+------------+--------------+---------------+-------------------+\n",
      "\n",
      "\n",
      "Meilleures ouvertures pour les blancs dans le type de partie Blitz :\n"
     ]
    },
    {
     "name": "stderr",
     "output_type": "stream",
     "text": [
      "                                                                                \r"
     ]
    },
    {
     "name": "stdout",
     "output_type": "stream",
     "text": [
      "+---------+------------------+-------------------------------------------------------------------------+---------+---------------+------------+--------------+---------------+------------------+\n",
      "|Game_type|White_elo_category|Opening                                                                  |WhiteWins|TotalGamesWhite|WhiteWinRate|TotalWhiteWins|TotalGamesWhite|SuccessRate       |\n",
      "+---------+------------------+-------------------------------------------------------------------------+---------+---------------+------------+--------------+---------------+------------------+\n",
      "|Blitz    |High rating       |Sicilian Defense: Dragon Variation, Classical Variation, Stockholm Attack|1        |1              |1.0         |197867        |385649         |0.5130753612741119|\n",
      "|Blitz    |High rating       |Italian Game: Classical Variation, Giuoco Pianissimo, Main Line          |2        |2              |1.0         |197867        |385649         |0.5130753612741119|\n",
      "|Blitz    |High rating       |Sicilian Defense: Wing Gambit, Nanu Gambit                               |1        |1              |1.0         |197867        |385649         |0.5130753612741119|\n",
      "+---------+------------------+-------------------------------------------------------------------------+---------+---------------+------------+--------------+---------------+------------------+\n",
      "\n",
      "\n",
      "Meilleures ouvertures pour les blancs dans le type de partie Classical :\n"
     ]
    },
    {
     "name": "stderr",
     "output_type": "stream",
     "text": [
      "                                                                                \r"
     ]
    },
    {
     "name": "stdout",
     "output_type": "stream",
     "text": [
      "+---------+------------------+------------------------------------------------------------+---------+---------------+------------+--------------+---------------+------------------+\n",
      "|Game_type|White_elo_category|Opening                                                     |WhiteWins|TotalGamesWhite|WhiteWinRate|TotalWhiteWins|TotalGamesWhite|SuccessRate       |\n",
      "+---------+------------------+------------------------------------------------------------+---------+---------------+------------+--------------+---------------+------------------+\n",
      "|Classical|High rating       |Sicilian Defense: Richter-Rauzer Variation, Dragon Variation|1        |1              |1.0         |13499         |25322          |0.5330937524682094|\n",
      "|Classical|High rating       |Blackmar-Diemer Gambit: Pietrowsky Defense                  |1        |1              |1.0         |13499         |25322          |0.5330937524682094|\n",
      "|Classical|High rating       |Sicilian Defense: Richter-Rauzer Variation, Modern Variation|1        |1              |1.0         |13499         |25322          |0.5330937524682094|\n",
      "+---------+------------------+------------------------------------------------------------+---------+---------------+------------+--------------+---------------+------------------+\n",
      "\n",
      "\n",
      "Meilleures ouvertures pour les blancs dans le type de partie Rapid :\n"
     ]
    },
    {
     "name": "stderr",
     "output_type": "stream",
     "text": [
      "                                                                                \r"
     ]
    },
    {
     "name": "stdout",
     "output_type": "stream",
     "text": [
      "+---------+------------------+--------------------------------------------------------+---------+---------------+------------+--------------+---------------+------------------+\n",
      "|Game_type|White_elo_category|Opening                                                 |WhiteWins|TotalGamesWhite|WhiteWinRate|TotalWhiteWins|TotalGamesWhite|SuccessRate       |\n",
      "+---------+------------------+--------------------------------------------------------+---------+---------------+------------+--------------+---------------+------------------+\n",
      "|Rapid    |High rating       |Réti Opening: Anglo-Slav Variation, Capablanca Variation|1        |1              |1.0         |84486         |164769         |0.5127542195437248|\n",
      "|Rapid    |High rating       |Latvian Gambit Accepted, Foltys-Leonhardt Variation     |1        |1              |1.0         |84486         |164769         |0.5127542195437248|\n",
      "|Rapid    |High rating       |Rat Defense: English Rat, Lisbon Gambit                 |1        |1              |1.0         |84486         |164769         |0.5127542195437248|\n",
      "+---------+------------------+--------------------------------------------------------+---------+---------------+------------+--------------+---------------+------------------+\n",
      "\n",
      "\n",
      "Meilleures ouvertures pour les blancs dans le type de partie Correspondence :\n"
     ]
    },
    {
     "name": "stderr",
     "output_type": "stream",
     "text": [
      "[Stage 1285:============================>                           (4 + 4) / 8]\r"
     ]
    },
    {
     "name": "stdout",
     "output_type": "stream",
     "text": [
      "+--------------+------------------+-----------------------------------------------------------+---------+---------------+------------+--------------+---------------+------------------+\n",
      "|Game_type     |White_elo_category|Opening                                                    |WhiteWins|TotalGamesWhite|WhiteWinRate|TotalWhiteWins|TotalGamesWhite|SuccessRate       |\n",
      "+--------------+------------------+-----------------------------------------------------------+---------+---------------+------------+--------------+---------------+------------------+\n",
      "|Correspondence|High rating       |Queen's Gambit Refused: Baltic Defense, Pseudo-Slav        |1        |1              |1.0         |1172          |2117           |0.5536136041568257|\n",
      "|Correspondence|High rating       |Four Knights Game: Spanish Variation                       |1        |1              |1.0         |1172          |2117           |0.5536136041568257|\n",
      "|Correspondence|High rating       |Grünfeld Defense: Three Knights Variation, Hungarian Attack|1        |1              |1.0         |1172          |2117           |0.5536136041568257|\n",
      "+--------------+------------------+-----------------------------------------------------------+---------+---------------+------------+--------------+---------------+------------------+\n",
      "\n"
     ]
    },
    {
     "name": "stderr",
     "output_type": "stream",
     "text": [
      "                                                                                \r"
     ]
    }
   ],
   "source": [
    "# Exemple d'utilisation pour calculer les taux des blancs\n",
    "white_rates = calculate_white_opening_rates_by_game_type(df, \"Game_type\")\n",
    "\n",
    "# Afficher les résultats pour les blancs\n",
    "for game_type, result in white_rates.items():\n",
    "    print(f\"\\nMeilleures ouvertures pour les blancs dans le type de partie {game_type} :\")\n",
    "    result.show(truncate=False)\n"
   ]
  }
 ],
 "metadata": {
  "kernelspec": {
   "display_name": "Python 3",
   "language": "python",
   "name": "python3"
  },
  "language_info": {
   "codemirror_mode": {
    "name": "ipython",
    "version": 3
   },
   "file_extension": ".py",
   "mimetype": "text/x-python",
   "name": "python",
   "nbconvert_exporter": "python",
   "pygments_lexer": "ipython3",
   "version": "3.10.12"
  }
 },
 "nbformat": 4,
 "nbformat_minor": 2
}
