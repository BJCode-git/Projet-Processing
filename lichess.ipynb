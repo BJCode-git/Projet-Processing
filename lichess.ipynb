{
 "cells": [
  {
   "cell_type": "code",
   "execution_count": null,
   "metadata": {
    "vscode": {
     "languageId": "python"
    }
   },
   "outputs": [],
   "source": [
    "import chess\n",
    "import chess.svg\n",
    "\n",
    "import matplotlib.pyplot as plt\n",
    "import pandas as pd\n",
    "import numpy as np\n",
    "#import spark\n",
    "\n",
    "\n",
    "from pyspark.sql import SparkSession\n",
    "from pyspark.sql.functions import col, when, mean, sum as _sum, count\n",
    "\n",
    "# Initialiser une session Spark\n",
    "spark = SparkSession.builder.appName(\"Lichess Analysis\").getOrCreate()\n",
    "\n",
    "# Charger les données depuis le fichier CSV (remplacez par le chemin du fichier si besoin)\n",
    "data_path = \"data/Sept_20_analysis.csv\"\n",
    "df = spark.read.csv(data_path, header=True, inferSchema=True)\n",
    "\n",
    "# Aperçu des données\n",
    "df.show(5)\n",
    "print(\"\\nDimensions du dataset :\", (df.count(), len(df.columns)))\n"
   ]
  },
  {
   "cell_type": "code",
   "execution_count": null,
   "metadata": {
    "vscode": {
     "languageId": "python"
    }
   },
   "outputs": [],
   "source": [
    "# Définition des catégories de niveau en fonction de l'ELO\n",
    "def categorize_elo(column):\n",
    "    return  when((col(column) >= 1200) & (col(column) < 1500),  \"occasional player\") \\\n",
    "           .when((col(column) >= 1500) & (col(column) < 1800),  \"good club player\") \\\n",
    "           .when((col(column) >= 1800) & (col(column) < 2000),  \"very good club player\") \\\n",
    "           .when((col(column) >= 2000) & (col(column) < 2400),  \"national and international level (IM)\") \\\n",
    "           .when((col(column) >= 2400) & (col(column) <= 2800), \"GMI, World Champions\") \\\n",
    "           .otherwise(\"Unknown\")\n",
    "\n",
    "# Ajouter les colonnes pour les catégories des joueurs\n",
    "df = df.withColumn(\"White_elo_category\", categorize_elo(\"WhiteElo\"))\n",
    "df = df.withColumn(\"Black_elo_category\", categorize_elo(\"BlackElo\"))\n",
    "df = df.withColumn(\"Average_elo_category\", categorize_elo(((col(\"WhiteElo\") + col(\"BlackElo\")) / 2)))"
   ]
  },
  {
   "cell_type": "code",
   "execution_count": null,
   "metadata": {
    "vscode": {
     "languageId": "python"
    }
   },
   "outputs": [],
   "source": [
    "# Filtrer les parties Blitz\n",
    "blitz_games = df.filter(col(\"Game_type\") == \"Blitz\")\n",
    "\n",
    "# Calcul des taux par catégorie (ELO moyen)\n",
    "rates_by_average_elo = blitz_games.groupBy(\"Average_elo_category\").agg(\n",
    "    (_sum(col(\"Black_blunders\")) + _sum(col(\"White_blunders\"))) / _sum(col(\"Total_moves\")).alias(\"Blunder_rate\"),\n",
    "    (_sum(col(\"Black_mistakes\")) + _sum(col(\"White_mistakes\"))) / _sum(col(\"Total_moves\")).alias(\"Mistake_rate\"),\n",
    "    (_sum(col(\"Black_inaccuracies\")) + _sum(col(\"White_inaccuracies\"))) / _sum(col(\"Total_moves\")).alias(\"Inaccuracy_rate\")\n",
    ")\n",
    "\n",
    "print(\"\\nTaux par catégorie basée sur l'ELO moyen pour les parties Blitz :\")\n",
    "rates_by_average_elo.show()\n",
    "\n",
    "# Filtrer les parties où les deux joueurs sont dans la même catégorie\n",
    "same_category_blitz_games = blitz_games.filter(col(\"White_elo_category\") == col(\"Black_elo_category\"))\n",
    "rates_by_same_category = same_category_blitz_games.groupBy(\"White_elo_category\").agg(\n",
    "    (_sum(col(\"Black_blunders\")) + _sum(col(\"White_blunders\"))) / _sum(col(\"Total_moves\")).alias(\"Blunder_rate\"),\n",
    "    (_sum(col(\"Black_mistakes\")) + _sum(col(\"White_mistakes\"))) / _sum(col(\"Total_moves\")).alias(\"Mistake_rate\"),\n",
    "    (_sum(col(\"Black_inaccuracies\")) + _sum(col(\"White_inaccuracies\"))) / _sum(col(\"Total_moves\")).alias(\"Inaccuracy_rate\")\n",
    ")\n",
    "\n",
    "print(\"\\nTaux par catégorie lorsque les deux joueurs sont dans la même catégorie (parties Blitz) :\")\n",
    "rates_by_same_category.show()\n",
    "\n",
    "# Sauvegarder les résultats\n",
    "rates_by_average_elo_path = \"rates_by_average_elo.csv\"\n",
    "rates_by_same_category_path = \"rates_by_same_category.csv\"\n",
    "rates_by_average_elo.write.csv(rates_by_average_elo_path, header=True)\n",
    "rates_by_same_category.write.csv(rates_by_same_category_path, header=True)\n",
    "\n",
    "print(f\"\\nLes résultats ont été sauvegardés dans {rates_by_average_elo_path} et {rates_by_same_category_path}.\")"
   ]
  }
 ],
 "metadata": {
  "kernelspec": {
   "display_name": "Xonsh",
   "language": "xonsh",
   "name": "xonsh"
  },
  "language_info": {
   "name": "xonsh"
  }
 },
 "nbformat": 4,
 "nbformat_minor": 2
}
